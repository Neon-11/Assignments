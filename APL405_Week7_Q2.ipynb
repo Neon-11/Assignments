{
  "nbformat": 4,
  "nbformat_minor": 0,
  "metadata": {
    "colab": {
      "name": "APL405 Week7 Q2",
      "provenance": [],
      "collapsed_sections": []
    },
    "kernelspec": {
      "name": "python3",
      "display_name": "Python 3"
    },
    "language_info": {
      "name": "python"
    }
  },
  "cells": [
    {
      "cell_type": "markdown",
      "source": [
        "**1. Utilities (mathematical tools like auto-diff and integration)**"
      ],
      "metadata": {
        "id": "wLZuFAWkHLR1"
      }
    },
    {
      "cell_type": "code",
      "source": [
        "import utilities_q2"
      ],
      "metadata": {
        "id": "MBnn0CBoKVwx"
      },
      "execution_count": 46,
      "outputs": []
    },
    {
      "cell_type": "markdown",
      "source": [
        "**2. PINN for beam problem**"
      ],
      "metadata": {
        "id": "pIh59OhvGxG9"
      }
    },
    {
      "cell_type": "code",
      "execution_count": 47,
      "metadata": {
        "id": "K9Lm8ri92liM"
      },
      "outputs": [],
      "source": [
        "import physics_informed_q2\n",
        "import numpy as np\n",
        "import torch\n",
        "import matplotlib.pyplot as plt"
      ]
    },
    {
      "cell_type": "markdown",
      "source": [
        "**3. Analytical Solution**"
      ],
      "metadata": {
        "id": "l3zLwtHF29ed"
      }
    },
    {
      "cell_type": "code",
      "source": [
        "u_a = lambda x: (-1/24)*(x**2)*((x-1)**2)"
      ],
      "metadata": {
        "id": "b7XDJbql26zJ"
      },
      "execution_count": 48,
      "outputs": []
    },
    {
      "cell_type": "markdown",
      "source": [
        "**4. Defining parameters**"
      ],
      "metadata": {
        "id": "mluN76QZSXqy"
      }
    },
    {
      "cell_type": "code",
      "source": [
        "E = lambda x: 1\n",
        "A = lambda x: 1\n",
        "L = 1\n",
        "u0 = [0,0] # Dirichlet boundary conditions for both ends\n",
        "u1 = [0,0] # Neuman boundary condtions for both ends \n",
        "distLoad = 1"
      ],
      "metadata": {
        "id": "UQNisOvLSQmN"
      },
      "execution_count": 49,
      "outputs": []
    },
    {
      "cell_type": "markdown",
      "source": [
        "**5. Generate neural network**"
      ],
      "metadata": {
        "id": "YTcO6vrkSwv6"
      }
    },
    {
      "cell_type": "code",
      "source": [
        "pinnModel = PhysicsInformedBarModel(E, A, L, u0, u1, dist_load=distLoad)"
      ],
      "metadata": {
        "colab": {
          "base_uri": "https://localhost:8080/"
        },
        "id": "HuC5nuIdSvpZ",
        "outputId": "265160a7-7035-4996-db9c-1e81193b1b37"
      },
      "execution_count": 50,
      "outputs": [
        {
          "output_type": "stream",
          "name": "stdout",
          "text": [
            "check 2\n"
          ]
        }
      ]
    },
    {
      "cell_type": "markdown",
      "source": [
        "**6. Training model**"
      ],
      "metadata": {
        "id": "-aOdosVxTGob"
      }
    },
    {
      "cell_type": "code",
      "source": [
        "epochs = 500\n",
        "learningRate = 1e-2\n",
        "\n",
        "pinnModel.train(epochs, optimizer='LBFGS', lr=learningRate)"
      ],
      "metadata": {
        "colab": {
          "base_uri": "https://localhost:8080/"
        },
        "id": "BjbHAlv6TFPK",
        "outputId": "62b42e6b-9462-41d8-8e93-c3cc6ce66bd6"
      },
      "execution_count": 51,
      "outputs": [
        {
          "output_type": "stream",
          "name": "stdout",
          "text": [
            "Epoch: 0/499\t\tDifferential equation loss = 72.444069\t\tBoundary condition loss = 0.158896\t\tTotal loss = 72.602966\n",
            "Epoch: 100/499\t\tDifferential equation loss = 0.000173\t\tBoundary condition loss = 0.000647\t\tTotal loss = 0.000820\n",
            "Epoch: 200/499\t\tDifferential equation loss = 0.000067\t\tBoundary condition loss = 0.000304\t\tTotal loss = 0.000371\n",
            "Epoch: 300/499\t\tDifferential equation loss = 0.000114\t\tBoundary condition loss = 0.000008\t\tTotal loss = 0.000122\n",
            "Epoch: 400/499\t\tDifferential equation loss = 0.000058\t\tBoundary condition loss = 0.000001\t\tTotal loss = 0.000060\n",
            "Epoch: 499/499\t\tDifferential equation loss = 0.000058\t\tBoundary condition loss = 0.000001\t\tTotal loss = 0.000060\n"
          ]
        }
      ]
    },
    {
      "cell_type": "markdown",
      "source": [
        "**7. Generating samples**"
      ],
      "metadata": {
        "id": "A1IggrPCU56W"
      }
    },
    {
      "cell_type": "code",
      "source": [
        "samples = 100\n",
        "x_test = utilities_q2.generate_grid_1d(L, samples)\n",
        "u_test = pinnModel.get_displacements(x_test)"
      ],
      "metadata": {
        "id": "O7Kl3tmKTPSb"
      },
      "execution_count": 52,
      "outputs": []
    },
    {
      "cell_type": "markdown",
      "source": [
        "**8. Prediction plot and test plots**"
      ],
      "metadata": {
        "id": "LePugnJ5VKPC"
      }
    },
    {
      "cell_type": "code",
      "source": [
        "utilities_q2.plot_displacements_bar(x_test, u_test, u_a)\n",
        "pinnModel.plot_training_history()"
      ],
      "metadata": {
        "id": "QkS6xlaoValM",
        "colab": {
          "base_uri": "https://localhost:8080/",
          "height": 449
        },
        "outputId": "5f995836-1d92-45a5-da78-73d168f90b83"
      },
      "execution_count": 53,
      "outputs": [
        {
          "output_type": "display_data",
          "data": {
            "image/png": "[encoded data removed]",
            "text/plain": [
              "<Figure size 288x216 with 1 Axes>"
            ]
          },
          "metadata": {
            "needs_background": "light"
          }
        },
        {
          "output_type": "display_data",
          "data": {
            "image/png": "[encoded data removed]",
            "text/plain": [
              "<Figure size 288x216 with 1 Axes>"
            ]
          },
          "metadata": {
            "needs_background": "light"
          }
        }
      ]
    },
    {
      "cell_type": "code",
      "source": [
        ""
      ],
      "metadata": {
        "id": "cwF7cLWyNXni"
      },
      "execution_count": null,
      "outputs": []
    }
  ]
}