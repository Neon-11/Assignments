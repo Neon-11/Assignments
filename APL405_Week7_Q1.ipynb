{
  "nbformat": 4,
  "nbformat_minor": 0,
  "metadata": {
    "colab": {
      "name": "APL405 Week7 Q1",
      "provenance": [],
      "collapsed_sections": []
    },
    "kernelspec": {
      "name": "python3",
      "display_name": "Python 3"
    },
    "language_info": {
      "name": "python"
    }
  },
  "cells": [
    {
      "cell_type": "markdown",
      "source": [
        "**1. Utilities (mathematical tools) and PINN for tappered 1D rod**"
      ],
      "metadata": {
        "id": "2swiCpDT1SbR"
      }
    },
    {
      "cell_type": "code",
      "execution_count": 9,
      "metadata": {
        "id": "zqWEzd1B1Roi"
      },
      "outputs": [],
      "source": [
        "from physics_informed_q1 import PhysicsInformedBarModel_q1\n",
        "import utilities_q1\n",
        "import numpy as np\n",
        "import torch  \n",
        "import matplotlib.pyplot as plt"
      ]
    },
    {
      "cell_type": "markdown",
      "source": [
        "**2. Analytical solution**"
      ],
      "metadata": {
        "id": "NY8j6_gD2SZd"
      }
    },
    {
      "cell_type": "code",
      "source": [
        "u_a = lambda x: 5*np.log(1+x)"
      ],
      "metadata": {
        "id": "9l7p35TB16Ie"
      },
      "execution_count": 10,
      "outputs": []
    },
    {
      "cell_type": "markdown",
      "source": [
        "**3. Defining problem**"
      ],
      "metadata": {
        "id": "90-DlAL52o0u"
      }
    },
    {
      "cell_type": "code",
      "source": [
        "E = lambda x: 2\n",
        "A = lambda x: 1 + x\n",
        "L = 1\n",
        "u0 = [0]  # Dirichlet boundary conditions for left (x =0) edges\n",
        "Load = lambda x: 10"
      ],
      "metadata": {
        "id": "xti3UAZu2jIq"
      },
      "execution_count": 11,
      "outputs": []
    },
    {
      "cell_type": "markdown",
      "source": [
        "**4. Generate neural network.**"
      ],
      "metadata": {
        "id": "UbT1RGXI3Dhk"
      }
    },
    {
      "cell_type": "code",
      "source": [
        "pinnModel = PhysicsInformedBarModel_q1(E, A, L, u0, load = Load)"
      ],
      "metadata": {
        "colab": {
          "base_uri": "https://localhost:8080/"
        },
        "id": "JzTh0l293Cvj",
        "outputId": "b1c64638-9987-49b8-a00a-30fbd19b271a"
      },
      "execution_count": 12,
      "outputs": [
        {
          "output_type": "stream",
          "name": "stdout",
          "text": [
            "check 2\n"
          ]
        }
      ]
    },
    {
      "cell_type": "markdown",
      "source": [
        "**5. Training the model**"
      ],
      "metadata": {
        "id": "7t5GGwId3oAO"
      }
    },
    {
      "cell_type": "code",
      "source": [
        "epochs = 500\n",
        "learningRate = 1e-2\n",
        "\n",
        "pinnModel.train(epochs, optimizer='LBFGS', lr=learningRate)"
      ],
      "metadata": {
        "colab": {
          "base_uri": "https://localhost:8080/"
        },
        "id": "WvoheSxC3ckE",
        "outputId": "efb0a3f0-f72d-42a1-dbc8-fae29f56d38a"
      },
      "execution_count": 13,
      "outputs": [
        {
          "output_type": "stream",
          "name": "stdout",
          "text": [
            "Epoch: 0/499\t\tDifferential equation loss = 4882.943848\t\tBoundary condition loss = 94.954239\t\tTotal loss = 4977.897949\n",
            "Epoch: 100/499\t\tDifferential equation loss = 0.000021\t\tBoundary condition loss = 0.000001\t\tTotal loss = 0.000022\n",
            "Epoch: 200/499\t\tDifferential equation loss = 0.000002\t\tBoundary condition loss = 0.000000\t\tTotal loss = 0.000003\n",
            "Epoch: 300/499\t\tDifferential equation loss = 0.000002\t\tBoundary condition loss = 0.000000\t\tTotal loss = 0.000003\n",
            "Epoch: 400/499\t\tDifferential equation loss = 0.000002\t\tBoundary condition loss = 0.000000\t\tTotal loss = 0.000002\n",
            "Epoch: 499/499\t\tDifferential equation loss = 0.000002\t\tBoundary condition loss = 0.000000\t\tTotal loss = 0.000002\n"
          ]
        }
      ]
    },
    {
      "cell_type": "markdown",
      "source": [
        "**6. Generating sample data**"
      ],
      "metadata": {
        "id": "1bfmwTCpOc7u"
      }
    },
    {
      "cell_type": "code",
      "source": [
        "samples = 100\n",
        "x_test = utilities_q1.generate_grid_1d(L, samples)\n",
        "u_test = pinnModel.get_displacements(x_test)"
      ],
      "metadata": {
        "id": "EwpKdEnQ9PfD"
      },
      "execution_count": 14,
      "outputs": []
    },
    {
      "cell_type": "markdown",
      "source": [
        "**7. Plots required**"
      ],
      "metadata": {
        "id": "Dgyg_0fuOoM-"
      }
    },
    {
      "cell_type": "code",
      "source": [
        "utilities_q1.plot_displacements_bar(x_test, u_test, u_a)\n",
        "pinnModel.plot_training_history()"
      ],
      "metadata": {
        "colab": {
          "base_uri": "https://localhost:8080/",
          "height": 449
        },
        "id": "OsbyI03ZOnGB",
        "outputId": "b80ba4f3-35af-4154-bb46-2aa2f2f8ad8e"
      },
      "execution_count": 15,
      "outputs": [
        {
          "output_type": "display_data",
          "data": {
            "image/png": "[encoded data removed]",
            "text/plain": [
              "<Figure size 288x216 with 1 Axes>"
            ]
          },
          "metadata": {
            "needs_background": "light"
          }
        },
        {
          "output_type": "display_data",
          "data": {
            "image/png": "[encoded data removed]",
            "text/plain": [
              "<Figure size 288x216 with 1 Axes>"
            ]
          },
          "metadata": {
            "needs_background": "light"
          }
        }
      ]
    }
  ]
}