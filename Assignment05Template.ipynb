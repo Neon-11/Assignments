{
 "cells": [
  {
   "cell_type": "code",
   "execution_count": 1,
   "id": "or-NFc3o-DuC",
   "metadata": {
    "colab": {
     "base_uri": "https://localhost:8080/"
    },
    "id": "or-NFc3o-DuC",
    "outputId": "10445d2e-17da-4240-9e56-f7afc73fcb8f"
   },
   "outputs": [
    {
     "name": "stdout",
     "output_type": "stream",
     "text": [
      "Mounted at /content/drive\n"
     ]
    }
   ],
   "source": [
    "from google.colab import drive\n",
    "drive.mount('/content/drive')\n",
    "import matplotlib.pyplot as plt\n",
    "import matplotlib.image as pimg"
   ]
  },
  {
   "cell_type": "code",
   "execution_count": 16,
   "id": "c08792f1",
   "metadata": {
    "id": "c08792f1"
   },
   "outputs": [],
   "source": [
    "import os\n",
    "import numpy as np\n",
    "import pandas as pd\n",
    "from matplotlib import pyplot\n",
    "from scipy import optimize\n",
    "from scipy.io import loadmat\n",
    "from scipy import ndimage\n",
    "%matplotlib inline"
   ]
  },
  {
   "cell_type": "markdown",
   "id": "2QB1EFTS632n",
   "metadata": {
    "id": "2QB1EFTS632n"
   },
   "source": [
    "**Loading training data**"
   ]
  },
  {
   "cell_type": "code",
   "execution_count": 3,
   "id": "593709dc",
   "metadata": {
    "colab": {
     "base_uri": "https://localhost:8080/",
     "height": 300
    },
    "id": "593709dc",
    "outputId": "2e0f7e1f-0539-4de1-9562-f94d08db2157"
   },
   "outputs": [
    {
     "data": {
      "text/html": [
       "\n",
       "  <div id=\"df-7a7e936e-533e-416b-8438-aea7337ac75a\">\n",
       "    <div class=\"colab-df-container\">\n",
       "      <div>\n",
       "<style scoped>\n",
       "    .dataframe tbody tr th:only-of-type {\n",
       "        vertical-align: middle;\n",
       "    }\n",
       "\n",
       "    .dataframe tbody tr th {\n",
       "        vertical-align: top;\n",
       "    }\n",
       "\n",
       "    .dataframe thead th {\n",
       "        text-align: right;\n",
       "    }\n",
       "</style>\n",
       "<table border=\"1\" class=\"dataframe\">\n",
       "  <thead>\n",
       "    <tr style=\"text-align: right;\">\n",
       "      <th></th>\n",
       "      <th>label</th>\n",
       "      <th>pixel1</th>\n",
       "      <th>pixel2</th>\n",
       "      <th>pixel3</th>\n",
       "      <th>pixel4</th>\n",
       "      <th>pixel5</th>\n",
       "      <th>pixel6</th>\n",
       "      <th>pixel7</th>\n",
       "      <th>pixel8</th>\n",
       "      <th>pixel9</th>\n",
       "      <th>pixel10</th>\n",
       "      <th>pixel11</th>\n",
       "      <th>pixel12</th>\n",
       "      <th>pixel13</th>\n",
       "      <th>pixel14</th>\n",
       "      <th>pixel15</th>\n",
       "      <th>pixel16</th>\n",
       "      <th>pixel17</th>\n",
       "      <th>pixel18</th>\n",
       "      <th>pixel19</th>\n",
       "      <th>pixel20</th>\n",
       "      <th>pixel21</th>\n",
       "      <th>pixel22</th>\n",
       "      <th>pixel23</th>\n",
       "      <th>pixel24</th>\n",
       "      <th>pixel25</th>\n",
       "      <th>pixel26</th>\n",
       "      <th>pixel27</th>\n",
       "      <th>pixel28</th>\n",
       "      <th>pixel29</th>\n",
       "      <th>pixel30</th>\n",
       "      <th>pixel31</th>\n",
       "      <th>pixel32</th>\n",
       "      <th>pixel33</th>\n",
       "      <th>pixel34</th>\n",
       "      <th>pixel35</th>\n",
       "      <th>pixel36</th>\n",
       "      <th>pixel37</th>\n",
       "      <th>pixel38</th>\n",
       "      <th>pixel39</th>\n",
       "      <th>...</th>\n",
       "      <th>pixel745</th>\n",
       "      <th>pixel746</th>\n",
       "      <th>pixel747</th>\n",
       "      <th>pixel748</th>\n",
       "      <th>pixel749</th>\n",
       "      <th>pixel750</th>\n",
       "      <th>pixel751</th>\n",
       "      <th>pixel752</th>\n",
       "      <th>pixel753</th>\n",
       "      <th>pixel754</th>\n",
       "      <th>pixel755</th>\n",
       "      <th>pixel756</th>\n",
       "      <th>pixel757</th>\n",
       "      <th>pixel758</th>\n",
       "      <th>pixel759</th>\n",
       "      <th>pixel760</th>\n",
       "      <th>pixel761</th>\n",
       "      <th>pixel762</th>\n",
       "      <th>pixel763</th>\n",
       "      <th>pixel764</th>\n",
       "      <th>pixel765</th>\n",
       "      <th>pixel766</th>\n",
       "      <th>pixel767</th>\n",
       "      <th>pixel768</th>\n",
       "      <th>pixel769</th>\n",
       "      <th>pixel770</th>\n",
       "      <th>pixel771</th>\n",
       "      <th>pixel772</th>\n",
       "      <th>pixel773</th>\n",
       "      <th>pixel774</th>\n",
       "      <th>pixel775</th>\n",
       "      <th>pixel776</th>\n",
       "      <th>pixel777</th>\n",
       "      <th>pixel778</th>\n",
       "      <th>pixel779</th>\n",
       "      <th>pixel780</th>\n",
       "      <th>pixel781</th>\n",
       "      <th>pixel782</th>\n",
       "      <th>pixel783</th>\n",
       "      <th>pixel784</th>\n",
       "    </tr>\n",
       "  </thead>\n",
       "  <tbody>\n",
       "    <tr>\n",
       "      <th>0</th>\n",
       "      <td>0</td>\n",
       "      <td>0</td>\n",
       "      <td>0</td>\n",
       "      <td>0</td>\n",
       "      <td>0</td>\n",
       "      <td>0</td>\n",
       "      <td>0</td>\n",
       "      <td>0</td>\n",
       "      <td>9</td>\n",
       "      <td>8</td>\n",
       "      <td>0</td>\n",
       "      <td>0</td>\n",
       "      <td>34</td>\n",
       "      <td>29</td>\n",
       "      <td>7</td>\n",
       "      <td>0</td>\n",
       "      <td>11</td>\n",
       "      <td>24</td>\n",
       "      <td>0</td>\n",
       "      <td>0</td>\n",
       "      <td>3</td>\n",
       "      <td>3</td>\n",
       "      <td>1</td>\n",
       "      <td>0</td>\n",
       "      <td>1</td>\n",
       "      <td>1</td>\n",
       "      <td>0</td>\n",
       "      <td>0</td>\n",
       "      <td>0</td>\n",
       "      <td>0</td>\n",
       "      <td>0</td>\n",
       "      <td>4</td>\n",
       "      <td>0</td>\n",
       "      <td>0</td>\n",
       "      <td>1</td>\n",
       "      <td>0</td>\n",
       "      <td>0</td>\n",
       "      <td>0</td>\n",
       "      <td>0</td>\n",
       "      <td>0</td>\n",
       "      <td>...</td>\n",
       "      <td>242</td>\n",
       "      <td>245</td>\n",
       "      <td>224</td>\n",
       "      <td>245</td>\n",
       "      <td>234</td>\n",
       "      <td>0</td>\n",
       "      <td>3</td>\n",
       "      <td>0</td>\n",
       "      <td>0</td>\n",
       "      <td>0</td>\n",
       "      <td>0</td>\n",
       "      <td>0</td>\n",
       "      <td>0</td>\n",
       "      <td>0</td>\n",
       "      <td>0</td>\n",
       "      <td>0</td>\n",
       "      <td>0</td>\n",
       "      <td>0</td>\n",
       "      <td>0</td>\n",
       "      <td>37</td>\n",
       "      <td>69</td>\n",
       "      <td>94</td>\n",
       "      <td>123</td>\n",
       "      <td>127</td>\n",
       "      <td>138</td>\n",
       "      <td>138</td>\n",
       "      <td>142</td>\n",
       "      <td>145</td>\n",
       "      <td>135</td>\n",
       "      <td>125</td>\n",
       "      <td>103</td>\n",
       "      <td>87</td>\n",
       "      <td>56</td>\n",
       "      <td>0</td>\n",
       "      <td>0</td>\n",
       "      <td>0</td>\n",
       "      <td>0</td>\n",
       "      <td>0</td>\n",
       "      <td>0</td>\n",
       "      <td>0</td>\n",
       "    </tr>\n",
       "    <tr>\n",
       "      <th>1</th>\n",
       "      <td>1</td>\n",
       "      <td>0</td>\n",
       "      <td>0</td>\n",
       "      <td>0</td>\n",
       "      <td>0</td>\n",
       "      <td>0</td>\n",
       "      <td>0</td>\n",
       "      <td>0</td>\n",
       "      <td>0</td>\n",
       "      <td>0</td>\n",
       "      <td>0</td>\n",
       "      <td>0</td>\n",
       "      <td>209</td>\n",
       "      <td>190</td>\n",
       "      <td>181</td>\n",
       "      <td>150</td>\n",
       "      <td>170</td>\n",
       "      <td>193</td>\n",
       "      <td>180</td>\n",
       "      <td>219</td>\n",
       "      <td>5</td>\n",
       "      <td>0</td>\n",
       "      <td>0</td>\n",
       "      <td>0</td>\n",
       "      <td>0</td>\n",
       "      <td>0</td>\n",
       "      <td>0</td>\n",
       "      <td>0</td>\n",
       "      <td>0</td>\n",
       "      <td>0</td>\n",
       "      <td>0</td>\n",
       "      <td>0</td>\n",
       "      <td>0</td>\n",
       "      <td>0</td>\n",
       "      <td>0</td>\n",
       "      <td>0</td>\n",
       "      <td>0</td>\n",
       "      <td>0</td>\n",
       "      <td>0</td>\n",
       "      <td>24</td>\n",
       "      <td>...</td>\n",
       "      <td>248</td>\n",
       "      <td>238</td>\n",
       "      <td>80</td>\n",
       "      <td>0</td>\n",
       "      <td>0</td>\n",
       "      <td>0</td>\n",
       "      <td>0</td>\n",
       "      <td>0</td>\n",
       "      <td>0</td>\n",
       "      <td>0</td>\n",
       "      <td>0</td>\n",
       "      <td>0</td>\n",
       "      <td>0</td>\n",
       "      <td>0</td>\n",
       "      <td>0</td>\n",
       "      <td>0</td>\n",
       "      <td>0</td>\n",
       "      <td>0</td>\n",
       "      <td>0</td>\n",
       "      <td>0</td>\n",
       "      <td>0</td>\n",
       "      <td>0</td>\n",
       "      <td>0</td>\n",
       "      <td>174</td>\n",
       "      <td>233</td>\n",
       "      <td>155</td>\n",
       "      <td>0</td>\n",
       "      <td>65</td>\n",
       "      <td>235</td>\n",
       "      <td>216</td>\n",
       "      <td>34</td>\n",
       "      <td>0</td>\n",
       "      <td>0</td>\n",
       "      <td>0</td>\n",
       "      <td>0</td>\n",
       "      <td>0</td>\n",
       "      <td>0</td>\n",
       "      <td>0</td>\n",
       "      <td>0</td>\n",
       "      <td>0</td>\n",
       "    </tr>\n",
       "    <tr>\n",
       "      <th>2</th>\n",
       "      <td>2</td>\n",
       "      <td>0</td>\n",
       "      <td>0</td>\n",
       "      <td>0</td>\n",
       "      <td>0</td>\n",
       "      <td>0</td>\n",
       "      <td>0</td>\n",
       "      <td>14</td>\n",
       "      <td>53</td>\n",
       "      <td>99</td>\n",
       "      <td>17</td>\n",
       "      <td>0</td>\n",
       "      <td>0</td>\n",
       "      <td>0</td>\n",
       "      <td>0</td>\n",
       "      <td>0</td>\n",
       "      <td>0</td>\n",
       "      <td>0</td>\n",
       "      <td>0</td>\n",
       "      <td>12</td>\n",
       "      <td>94</td>\n",
       "      <td>68</td>\n",
       "      <td>14</td>\n",
       "      <td>0</td>\n",
       "      <td>0</td>\n",
       "      <td>0</td>\n",
       "      <td>0</td>\n",
       "      <td>0</td>\n",
       "      <td>0</td>\n",
       "      <td>0</td>\n",
       "      <td>0</td>\n",
       "      <td>0</td>\n",
       "      <td>0</td>\n",
       "      <td>0</td>\n",
       "      <td>38</td>\n",
       "      <td>106</td>\n",
       "      <td>94</td>\n",
       "      <td>89</td>\n",
       "      <td>94</td>\n",
       "      <td>68</td>\n",
       "      <td>...</td>\n",
       "      <td>0</td>\n",
       "      <td>0</td>\n",
       "      <td>0</td>\n",
       "      <td>0</td>\n",
       "      <td>0</td>\n",
       "      <td>0</td>\n",
       "      <td>87</td>\n",
       "      <td>12</td>\n",
       "      <td>26</td>\n",
       "      <td>0</td>\n",
       "      <td>0</td>\n",
       "      <td>0</td>\n",
       "      <td>0</td>\n",
       "      <td>0</td>\n",
       "      <td>0</td>\n",
       "      <td>0</td>\n",
       "      <td>46</td>\n",
       "      <td>50</td>\n",
       "      <td>29</td>\n",
       "      <td>0</td>\n",
       "      <td>2</td>\n",
       "      <td>0</td>\n",
       "      <td>0</td>\n",
       "      <td>0</td>\n",
       "      <td>0</td>\n",
       "      <td>0</td>\n",
       "      <td>0</td>\n",
       "      <td>0</td>\n",
       "      <td>0</td>\n",
       "      <td>0</td>\n",
       "      <td>0</td>\n",
       "      <td>0</td>\n",
       "      <td>0</td>\n",
       "      <td>0</td>\n",
       "      <td>63</td>\n",
       "      <td>53</td>\n",
       "      <td>31</td>\n",
       "      <td>0</td>\n",
       "      <td>0</td>\n",
       "      <td>0</td>\n",
       "    </tr>\n",
       "    <tr>\n",
       "      <th>3</th>\n",
       "      <td>2</td>\n",
       "      <td>0</td>\n",
       "      <td>0</td>\n",
       "      <td>0</td>\n",
       "      <td>0</td>\n",
       "      <td>0</td>\n",
       "      <td>0</td>\n",
       "      <td>0</td>\n",
       "      <td>0</td>\n",
       "      <td>0</td>\n",
       "      <td>161</td>\n",
       "      <td>212</td>\n",
       "      <td>138</td>\n",
       "      <td>150</td>\n",
       "      <td>169</td>\n",
       "      <td>164</td>\n",
       "      <td>176</td>\n",
       "      <td>202</td>\n",
       "      <td>255</td>\n",
       "      <td>183</td>\n",
       "      <td>26</td>\n",
       "      <td>0</td>\n",
       "      <td>0</td>\n",
       "      <td>0</td>\n",
       "      <td>0</td>\n",
       "      <td>0</td>\n",
       "      <td>0</td>\n",
       "      <td>0</td>\n",
       "      <td>0</td>\n",
       "      <td>0</td>\n",
       "      <td>0</td>\n",
       "      <td>0</td>\n",
       "      <td>1</td>\n",
       "      <td>0</td>\n",
       "      <td>0</td>\n",
       "      <td>129</td>\n",
       "      <td>221</td>\n",
       "      <td>255</td>\n",
       "      <td>255</td>\n",
       "      <td>215</td>\n",
       "      <td>...</td>\n",
       "      <td>255</td>\n",
       "      <td>255</td>\n",
       "      <td>254</td>\n",
       "      <td>252</td>\n",
       "      <td>255</td>\n",
       "      <td>101</td>\n",
       "      <td>196</td>\n",
       "      <td>254</td>\n",
       "      <td>252</td>\n",
       "      <td>100</td>\n",
       "      <td>0</td>\n",
       "      <td>0</td>\n",
       "      <td>0</td>\n",
       "      <td>0</td>\n",
       "      <td>0</td>\n",
       "      <td>168</td>\n",
       "      <td>232</td>\n",
       "      <td>225</td>\n",
       "      <td>0</td>\n",
       "      <td>41</td>\n",
       "      <td>172</td>\n",
       "      <td>147</td>\n",
       "      <td>148</td>\n",
       "      <td>153</td>\n",
       "      <td>155</td>\n",
       "      <td>146</td>\n",
       "      <td>137</td>\n",
       "      <td>141</td>\n",
       "      <td>143</td>\n",
       "      <td>137</td>\n",
       "      <td>137</td>\n",
       "      <td>126</td>\n",
       "      <td>140</td>\n",
       "      <td>0</td>\n",
       "      <td>133</td>\n",
       "      <td>224</td>\n",
       "      <td>222</td>\n",
       "      <td>56</td>\n",
       "      <td>0</td>\n",
       "      <td>0</td>\n",
       "    </tr>\n",
       "    <tr>\n",
       "      <th>4</th>\n",
       "      <td>3</td>\n",
       "      <td>0</td>\n",
       "      <td>0</td>\n",
       "      <td>0</td>\n",
       "      <td>0</td>\n",
       "      <td>0</td>\n",
       "      <td>0</td>\n",
       "      <td>0</td>\n",
       "      <td>0</td>\n",
       "      <td>0</td>\n",
       "      <td>0</td>\n",
       "      <td>37</td>\n",
       "      <td>0</td>\n",
       "      <td>0</td>\n",
       "      <td>0</td>\n",
       "      <td>0</td>\n",
       "      <td>0</td>\n",
       "      <td>0</td>\n",
       "      <td>17</td>\n",
       "      <td>0</td>\n",
       "      <td>0</td>\n",
       "      <td>0</td>\n",
       "      <td>0</td>\n",
       "      <td>0</td>\n",
       "      <td>0</td>\n",
       "      <td>0</td>\n",
       "      <td>0</td>\n",
       "      <td>0</td>\n",
       "      <td>0</td>\n",
       "      <td>0</td>\n",
       "      <td>0</td>\n",
       "      <td>0</td>\n",
       "      <td>0</td>\n",
       "      <td>0</td>\n",
       "      <td>0</td>\n",
       "      <td>0</td>\n",
       "      <td>0</td>\n",
       "      <td>21</td>\n",
       "      <td>204</td>\n",
       "      <td>235</td>\n",
       "      <td>...</td>\n",
       "      <td>0</td>\n",
       "      <td>2</td>\n",
       "      <td>0</td>\n",
       "      <td>0</td>\n",
       "      <td>0</td>\n",
       "      <td>0</td>\n",
       "      <td>0</td>\n",
       "      <td>0</td>\n",
       "      <td>0</td>\n",
       "      <td>0</td>\n",
       "      <td>0</td>\n",
       "      <td>0</td>\n",
       "      <td>0</td>\n",
       "      <td>0</td>\n",
       "      <td>0</td>\n",
       "      <td>0</td>\n",
       "      <td>0</td>\n",
       "      <td>0</td>\n",
       "      <td>0</td>\n",
       "      <td>0</td>\n",
       "      <td>0</td>\n",
       "      <td>0</td>\n",
       "      <td>0</td>\n",
       "      <td>0</td>\n",
       "      <td>1</td>\n",
       "      <td>0</td>\n",
       "      <td>2</td>\n",
       "      <td>69</td>\n",
       "      <td>0</td>\n",
       "      <td>2</td>\n",
       "      <td>0</td>\n",
       "      <td>0</td>\n",
       "      <td>0</td>\n",
       "      <td>0</td>\n",
       "      <td>0</td>\n",
       "      <td>0</td>\n",
       "      <td>0</td>\n",
       "      <td>0</td>\n",
       "      <td>0</td>\n",
       "      <td>0</td>\n",
       "    </tr>\n",
       "  </tbody>\n",
       "</table>\n",
       "<p>5 rows × 785 columns</p>\n",
       "</div>\n",
       "      <button class=\"colab-df-convert\" onclick=\"convertToInteractive('df-7a7e936e-533e-416b-8438-aea7337ac75a')\"\n",
       "              title=\"Convert this dataframe to an interactive table.\"\n",
       "              style=\"display:none;\">\n",
       "        \n",
       "  <svg xmlns=\"http://www.w3.org/2000/svg\" height=\"24px\"viewBox=\"0 0 24 24\"\n",
       "       width=\"24px\">\n",
       "    <path d=\"M0 0h24v24H0V0z\" fill=\"none\"/>\n",
       "    <path d=\"M18.56 5.44l.94 2.06.94-2.06 2.06-.94-2.06-.94-.94-2.06-.94 2.06-2.06.94zm-11 1L8.5 8.5l.94-2.06 2.06-.94-2.06-.94L8.5 2.5l-.94 2.06-2.06.94zm10 10l.94 2.06.94-2.06 2.06-.94-2.06-.94-.94-2.06-.94 2.06-2.06.94z\"/><path d=\"M17.41 7.96l-1.37-1.37c-.4-.4-.92-.59-1.43-.59-.52 0-1.04.2-1.43.59L10.3 9.45l-7.72 7.72c-.78.78-.78 2.05 0 2.83L4 21.41c.39.39.9.59 1.41.59.51 0 1.02-.2 1.41-.59l7.78-7.78 2.81-2.81c.8-.78.8-2.07 0-2.86zM5.41 20L4 18.59l7.72-7.72 1.47 1.35L5.41 20z\"/>\n",
       "  </svg>\n",
       "      </button>\n",
       "      \n",
       "  <style>\n",
       "    .colab-df-container {\n",
       "      display:flex;\n",
       "      flex-wrap:wrap;\n",
       "      gap: 12px;\n",
       "    }\n",
       "\n",
       "    .colab-df-convert {\n",
       "      background-color: #E8F0FE;\n",
       "      border: none;\n",
       "      border-radius: 50%;\n",
       "      cursor: pointer;\n",
       "      display: none;\n",
       "      fill: #1967D2;\n",
       "      height: 32px;\n",
       "      padding: 0 0 0 0;\n",
       "      width: 32px;\n",
       "    }\n",
       "\n",
       "    .colab-df-convert:hover {\n",
       "      background-color: #E2EBFA;\n",
       "      box-shadow: 0px 1px 2px rgba(60, 64, 67, 0.3), 0px 1px 3px 1px rgba(60, 64, 67, 0.15);\n",
       "      fill: #174EA6;\n",
       "    }\n",
       "\n",
       "    [theme=dark] .colab-df-convert {\n",
       "      background-color: #3B4455;\n",
       "      fill: #D2E3FC;\n",
       "    }\n",
       "\n",
       "    [theme=dark] .colab-df-convert:hover {\n",
       "      background-color: #434B5C;\n",
       "      box-shadow: 0px 1px 3px 1px rgba(0, 0, 0, 0.15);\n",
       "      filter: drop-shadow(0px 1px 2px rgba(0, 0, 0, 0.3));\n",
       "      fill: #FFFFFF;\n",
       "    }\n",
       "  </style>\n",
       "\n",
       "      <script>\n",
       "        const buttonEl =\n",
       "          document.querySelector('#df-7a7e936e-533e-416b-8438-aea7337ac75a button.colab-df-convert');\n",
       "        buttonEl.style.display =\n",
       "          google.colab.kernel.accessAllowed ? 'block' : 'none';\n",
       "\n",
       "        async function convertToInteractive(key) {\n",
       "          const element = document.querySelector('#df-7a7e936e-533e-416b-8438-aea7337ac75a');\n",
       "          const dataTable =\n",
       "            await google.colab.kernel.invokeFunction('convertToInteractive',\n",
       "                                                     [key], {});\n",
       "          if (!dataTable) return;\n",
       "\n",
       "          const docLinkHtml = 'Like what you see? Visit the ' +\n",
       "            '<a target=\"_blank\" href=https://colab.research.google.com/notebooks/data_table.ipynb>data table notebook</a>'\n",
       "            + ' to learn more about interactive tables.';\n",
       "          element.innerHTML = '';\n",
       "          dataTable['output_type'] = 'display_data';\n",
       "          await google.colab.output.renderOutput(dataTable, element);\n",
       "          const docLink = document.createElement('div');\n",
       "          docLink.innerHTML = docLinkHtml;\n",
       "          element.appendChild(docLink);\n",
       "        }\n",
       "      </script>\n",
       "    </div>\n",
       "  </div>\n",
       "  "
      ],
      "text/plain": [
       "   label  pixel1  pixel2  pixel3  ...  pixel781  pixel782  pixel783  pixel784\n",
       "0      0       0       0       0  ...         0         0         0         0\n",
       "1      1       0       0       0  ...         0         0         0         0\n",
       "2      2       0       0       0  ...        31         0         0         0\n",
       "3      2       0       0       0  ...       222        56         0         0\n",
       "4      3       0       0       0  ...         0         0         0         0\n",
       "\n",
       "[5 rows x 785 columns]"
      ]
     },
     "execution_count": 3,
     "metadata": {},
     "output_type": "execute_result"
    }
   ],
   "source": [
    "data= pd.read_csv('/content/drive/MyDrive/GitHub/APL405-1/Week_05_NeuralNetworks/Assignment_05/fashion-mnist_train.csv')\n",
    "data.head()"
   ]
  },
  {
   "cell_type": "markdown",
   "id": "aO0g72Uv6-xt",
   "metadata": {
    "id": "aO0g72Uv6-xt"
   },
   "source": [
    "**Loading testing data**"
   ]
  },
  {
   "cell_type": "code",
   "execution_count": 6,
   "id": "dea59a53-a01b-4d00-9324-5f1e92a1c020",
   "metadata": {
    "colab": {
     "base_uri": "https://localhost:8080/",
     "height": 300
    },
    "id": "dea59a53-a01b-4d00-9324-5f1e92a1c020",
    "outputId": "6238f32a-93cb-44c5-cf50-bb813244a50d"
   },
   "outputs": [
    {
     "data": {
      "text/html": [
       "\n",
       "  <div id=\"df-c2474276-fdf0-4fb0-b637-f198e1635eba\">\n",
       "    <div class=\"colab-df-container\">\n",
       "      <div>\n",
       "<style scoped>\n",
       "    .dataframe tbody tr th:only-of-type {\n",
       "        vertical-align: middle;\n",
       "    }\n",
       "\n",
       "    .dataframe tbody tr th {\n",
       "        vertical-align: top;\n",
       "    }\n",
       "\n",
       "    .dataframe thead th {\n",
       "        text-align: right;\n",
       "    }\n",
       "</style>\n",
       "<table border=\"1\" class=\"dataframe\">\n",
       "  <thead>\n",
       "    <tr style=\"text-align: right;\">\n",
       "      <th></th>\n",
       "      <th>label</th>\n",
       "      <th>pixel1</th>\n",
       "      <th>pixel2</th>\n",
       "      <th>pixel3</th>\n",
       "      <th>pixel4</th>\n",
       "      <th>pixel5</th>\n",
       "      <th>pixel6</th>\n",
       "      <th>pixel7</th>\n",
       "      <th>pixel8</th>\n",
       "      <th>pixel9</th>\n",
       "      <th>pixel10</th>\n",
       "      <th>pixel11</th>\n",
       "      <th>pixel12</th>\n",
       "      <th>pixel13</th>\n",
       "      <th>pixel14</th>\n",
       "      <th>pixel15</th>\n",
       "      <th>pixel16</th>\n",
       "      <th>pixel17</th>\n",
       "      <th>pixel18</th>\n",
       "      <th>pixel19</th>\n",
       "      <th>pixel20</th>\n",
       "      <th>pixel21</th>\n",
       "      <th>pixel22</th>\n",
       "      <th>pixel23</th>\n",
       "      <th>pixel24</th>\n",
       "      <th>pixel25</th>\n",
       "      <th>pixel26</th>\n",
       "      <th>pixel27</th>\n",
       "      <th>pixel28</th>\n",
       "      <th>pixel29</th>\n",
       "      <th>pixel30</th>\n",
       "      <th>pixel31</th>\n",
       "      <th>pixel32</th>\n",
       "      <th>pixel33</th>\n",
       "      <th>pixel34</th>\n",
       "      <th>pixel35</th>\n",
       "      <th>pixel36</th>\n",
       "      <th>pixel37</th>\n",
       "      <th>pixel38</th>\n",
       "      <th>pixel39</th>\n",
       "      <th>...</th>\n",
       "      <th>pixel745</th>\n",
       "      <th>pixel746</th>\n",
       "      <th>pixel747</th>\n",
       "      <th>pixel748</th>\n",
       "      <th>pixel749</th>\n",
       "      <th>pixel750</th>\n",
       "      <th>pixel751</th>\n",
       "      <th>pixel752</th>\n",
       "      <th>pixel753</th>\n",
       "      <th>pixel754</th>\n",
       "      <th>pixel755</th>\n",
       "      <th>pixel756</th>\n",
       "      <th>pixel757</th>\n",
       "      <th>pixel758</th>\n",
       "      <th>pixel759</th>\n",
       "      <th>pixel760</th>\n",
       "      <th>pixel761</th>\n",
       "      <th>pixel762</th>\n",
       "      <th>pixel763</th>\n",
       "      <th>pixel764</th>\n",
       "      <th>pixel765</th>\n",
       "      <th>pixel766</th>\n",
       "      <th>pixel767</th>\n",
       "      <th>pixel768</th>\n",
       "      <th>pixel769</th>\n",
       "      <th>pixel770</th>\n",
       "      <th>pixel771</th>\n",
       "      <th>pixel772</th>\n",
       "      <th>pixel773</th>\n",
       "      <th>pixel774</th>\n",
       "      <th>pixel775</th>\n",
       "      <th>pixel776</th>\n",
       "      <th>pixel777</th>\n",
       "      <th>pixel778</th>\n",
       "      <th>pixel779</th>\n",
       "      <th>pixel780</th>\n",
       "      <th>pixel781</th>\n",
       "      <th>pixel782</th>\n",
       "      <th>pixel783</th>\n",
       "      <th>pixel784</th>\n",
       "    </tr>\n",
       "  </thead>\n",
       "  <tbody>\n",
       "    <tr>\n",
       "      <th>0</th>\n",
       "      <td>2</td>\n",
       "      <td>0</td>\n",
       "      <td>0</td>\n",
       "      <td>0</td>\n",
       "      <td>0</td>\n",
       "      <td>0</td>\n",
       "      <td>0</td>\n",
       "      <td>0</td>\n",
       "      <td>0</td>\n",
       "      <td>0</td>\n",
       "      <td>0</td>\n",
       "      <td>0</td>\n",
       "      <td>0</td>\n",
       "      <td>0</td>\n",
       "      <td>0</td>\n",
       "      <td>0</td>\n",
       "      <td>0</td>\n",
       "      <td>0</td>\n",
       "      <td>0</td>\n",
       "      <td>0</td>\n",
       "      <td>0</td>\n",
       "      <td>0</td>\n",
       "      <td>0</td>\n",
       "      <td>0</td>\n",
       "      <td>0</td>\n",
       "      <td>0</td>\n",
       "      <td>0</td>\n",
       "      <td>0</td>\n",
       "      <td>0</td>\n",
       "      <td>0</td>\n",
       "      <td>0</td>\n",
       "      <td>0</td>\n",
       "      <td>0</td>\n",
       "      <td>0</td>\n",
       "      <td>0</td>\n",
       "      <td>0</td>\n",
       "      <td>0</td>\n",
       "      <td>0</td>\n",
       "      <td>0</td>\n",
       "      <td>0</td>\n",
       "      <td>...</td>\n",
       "      <td>0</td>\n",
       "      <td>0</td>\n",
       "      <td>0</td>\n",
       "      <td>0</td>\n",
       "      <td>0</td>\n",
       "      <td>0</td>\n",
       "      <td>0</td>\n",
       "      <td>0</td>\n",
       "      <td>0</td>\n",
       "      <td>0</td>\n",
       "      <td>0</td>\n",
       "      <td>0</td>\n",
       "      <td>0</td>\n",
       "      <td>0</td>\n",
       "      <td>0</td>\n",
       "      <td>0</td>\n",
       "      <td>0</td>\n",
       "      <td>0</td>\n",
       "      <td>0</td>\n",
       "      <td>0</td>\n",
       "      <td>0</td>\n",
       "      <td>0</td>\n",
       "      <td>0</td>\n",
       "      <td>0</td>\n",
       "      <td>0</td>\n",
       "      <td>0</td>\n",
       "      <td>0</td>\n",
       "      <td>0</td>\n",
       "      <td>0</td>\n",
       "      <td>0</td>\n",
       "      <td>0</td>\n",
       "      <td>0</td>\n",
       "      <td>0</td>\n",
       "      <td>0</td>\n",
       "      <td>0</td>\n",
       "      <td>0</td>\n",
       "      <td>0</td>\n",
       "      <td>0</td>\n",
       "      <td>0</td>\n",
       "      <td>0</td>\n",
       "    </tr>\n",
       "    <tr>\n",
       "      <th>1</th>\n",
       "      <td>9</td>\n",
       "      <td>0</td>\n",
       "      <td>0</td>\n",
       "      <td>0</td>\n",
       "      <td>0</td>\n",
       "      <td>0</td>\n",
       "      <td>0</td>\n",
       "      <td>0</td>\n",
       "      <td>0</td>\n",
       "      <td>0</td>\n",
       "      <td>0</td>\n",
       "      <td>0</td>\n",
       "      <td>0</td>\n",
       "      <td>0</td>\n",
       "      <td>0</td>\n",
       "      <td>0</td>\n",
       "      <td>0</td>\n",
       "      <td>0</td>\n",
       "      <td>0</td>\n",
       "      <td>0</td>\n",
       "      <td>0</td>\n",
       "      <td>0</td>\n",
       "      <td>0</td>\n",
       "      <td>0</td>\n",
       "      <td>0</td>\n",
       "      <td>0</td>\n",
       "      <td>0</td>\n",
       "      <td>0</td>\n",
       "      <td>0</td>\n",
       "      <td>0</td>\n",
       "      <td>0</td>\n",
       "      <td>0</td>\n",
       "      <td>0</td>\n",
       "      <td>0</td>\n",
       "      <td>0</td>\n",
       "      <td>0</td>\n",
       "      <td>0</td>\n",
       "      <td>0</td>\n",
       "      <td>0</td>\n",
       "      <td>0</td>\n",
       "      <td>...</td>\n",
       "      <td>0</td>\n",
       "      <td>0</td>\n",
       "      <td>0</td>\n",
       "      <td>0</td>\n",
       "      <td>0</td>\n",
       "      <td>0</td>\n",
       "      <td>0</td>\n",
       "      <td>0</td>\n",
       "      <td>0</td>\n",
       "      <td>0</td>\n",
       "      <td>0</td>\n",
       "      <td>0</td>\n",
       "      <td>0</td>\n",
       "      <td>0</td>\n",
       "      <td>0</td>\n",
       "      <td>0</td>\n",
       "      <td>0</td>\n",
       "      <td>0</td>\n",
       "      <td>0</td>\n",
       "      <td>0</td>\n",
       "      <td>0</td>\n",
       "      <td>0</td>\n",
       "      <td>0</td>\n",
       "      <td>0</td>\n",
       "      <td>0</td>\n",
       "      <td>0</td>\n",
       "      <td>0</td>\n",
       "      <td>0</td>\n",
       "      <td>0</td>\n",
       "      <td>0</td>\n",
       "      <td>0</td>\n",
       "      <td>0</td>\n",
       "      <td>0</td>\n",
       "      <td>0</td>\n",
       "      <td>0</td>\n",
       "      <td>0</td>\n",
       "      <td>0</td>\n",
       "      <td>0</td>\n",
       "      <td>0</td>\n",
       "      <td>0</td>\n",
       "    </tr>\n",
       "    <tr>\n",
       "      <th>2</th>\n",
       "      <td>6</td>\n",
       "      <td>0</td>\n",
       "      <td>0</td>\n",
       "      <td>0</td>\n",
       "      <td>0</td>\n",
       "      <td>0</td>\n",
       "      <td>0</td>\n",
       "      <td>0</td>\n",
       "      <td>5</td>\n",
       "      <td>0</td>\n",
       "      <td>0</td>\n",
       "      <td>0</td>\n",
       "      <td>105</td>\n",
       "      <td>92</td>\n",
       "      <td>101</td>\n",
       "      <td>107</td>\n",
       "      <td>100</td>\n",
       "      <td>132</td>\n",
       "      <td>0</td>\n",
       "      <td>0</td>\n",
       "      <td>2</td>\n",
       "      <td>4</td>\n",
       "      <td>0</td>\n",
       "      <td>1</td>\n",
       "      <td>0</td>\n",
       "      <td>0</td>\n",
       "      <td>0</td>\n",
       "      <td>0</td>\n",
       "      <td>0</td>\n",
       "      <td>0</td>\n",
       "      <td>0</td>\n",
       "      <td>0</td>\n",
       "      <td>0</td>\n",
       "      <td>0</td>\n",
       "      <td>0</td>\n",
       "      <td>0</td>\n",
       "      <td>0</td>\n",
       "      <td>0</td>\n",
       "      <td>0</td>\n",
       "      <td>150</td>\n",
       "      <td>...</td>\n",
       "      <td>211</td>\n",
       "      <td>220</td>\n",
       "      <td>214</td>\n",
       "      <td>74</td>\n",
       "      <td>0</td>\n",
       "      <td>255</td>\n",
       "      <td>222</td>\n",
       "      <td>128</td>\n",
       "      <td>0</td>\n",
       "      <td>0</td>\n",
       "      <td>0</td>\n",
       "      <td>0</td>\n",
       "      <td>0</td>\n",
       "      <td>0</td>\n",
       "      <td>0</td>\n",
       "      <td>0</td>\n",
       "      <td>0</td>\n",
       "      <td>44</td>\n",
       "      <td>12</td>\n",
       "      <td>0</td>\n",
       "      <td>0</td>\n",
       "      <td>40</td>\n",
       "      <td>134</td>\n",
       "      <td>162</td>\n",
       "      <td>191</td>\n",
       "      <td>214</td>\n",
       "      <td>163</td>\n",
       "      <td>146</td>\n",
       "      <td>165</td>\n",
       "      <td>79</td>\n",
       "      <td>0</td>\n",
       "      <td>0</td>\n",
       "      <td>0</td>\n",
       "      <td>30</td>\n",
       "      <td>43</td>\n",
       "      <td>0</td>\n",
       "      <td>0</td>\n",
       "      <td>0</td>\n",
       "      <td>0</td>\n",
       "      <td>0</td>\n",
       "    </tr>\n",
       "    <tr>\n",
       "      <th>3</th>\n",
       "      <td>0</td>\n",
       "      <td>0</td>\n",
       "      <td>0</td>\n",
       "      <td>0</td>\n",
       "      <td>1</td>\n",
       "      <td>2</td>\n",
       "      <td>0</td>\n",
       "      <td>0</td>\n",
       "      <td>0</td>\n",
       "      <td>0</td>\n",
       "      <td>0</td>\n",
       "      <td>114</td>\n",
       "      <td>183</td>\n",
       "      <td>112</td>\n",
       "      <td>55</td>\n",
       "      <td>23</td>\n",
       "      <td>72</td>\n",
       "      <td>102</td>\n",
       "      <td>165</td>\n",
       "      <td>160</td>\n",
       "      <td>28</td>\n",
       "      <td>0</td>\n",
       "      <td>0</td>\n",
       "      <td>0</td>\n",
       "      <td>1</td>\n",
       "      <td>0</td>\n",
       "      <td>0</td>\n",
       "      <td>0</td>\n",
       "      <td>0</td>\n",
       "      <td>0</td>\n",
       "      <td>0</td>\n",
       "      <td>0</td>\n",
       "      <td>0</td>\n",
       "      <td>1</td>\n",
       "      <td>0</td>\n",
       "      <td>0</td>\n",
       "      <td>24</td>\n",
       "      <td>188</td>\n",
       "      <td>163</td>\n",
       "      <td>93</td>\n",
       "      <td>...</td>\n",
       "      <td>171</td>\n",
       "      <td>249</td>\n",
       "      <td>207</td>\n",
       "      <td>197</td>\n",
       "      <td>202</td>\n",
       "      <td>45</td>\n",
       "      <td>0</td>\n",
       "      <td>3</td>\n",
       "      <td>0</td>\n",
       "      <td>0</td>\n",
       "      <td>0</td>\n",
       "      <td>0</td>\n",
       "      <td>0</td>\n",
       "      <td>0</td>\n",
       "      <td>0</td>\n",
       "      <td>0</td>\n",
       "      <td>0</td>\n",
       "      <td>0</td>\n",
       "      <td>1</td>\n",
       "      <td>0</td>\n",
       "      <td>0</td>\n",
       "      <td>0</td>\n",
       "      <td>22</td>\n",
       "      <td>21</td>\n",
       "      <td>25</td>\n",
       "      <td>69</td>\n",
       "      <td>52</td>\n",
       "      <td>45</td>\n",
       "      <td>74</td>\n",
       "      <td>39</td>\n",
       "      <td>3</td>\n",
       "      <td>0</td>\n",
       "      <td>0</td>\n",
       "      <td>0</td>\n",
       "      <td>0</td>\n",
       "      <td>1</td>\n",
       "      <td>0</td>\n",
       "      <td>0</td>\n",
       "      <td>0</td>\n",
       "      <td>0</td>\n",
       "    </tr>\n",
       "    <tr>\n",
       "      <th>4</th>\n",
       "      <td>3</td>\n",
       "      <td>0</td>\n",
       "      <td>0</td>\n",
       "      <td>0</td>\n",
       "      <td>0</td>\n",
       "      <td>0</td>\n",
       "      <td>0</td>\n",
       "      <td>0</td>\n",
       "      <td>0</td>\n",
       "      <td>0</td>\n",
       "      <td>0</td>\n",
       "      <td>0</td>\n",
       "      <td>0</td>\n",
       "      <td>46</td>\n",
       "      <td>0</td>\n",
       "      <td>21</td>\n",
       "      <td>68</td>\n",
       "      <td>0</td>\n",
       "      <td>0</td>\n",
       "      <td>0</td>\n",
       "      <td>0</td>\n",
       "      <td>0</td>\n",
       "      <td>0</td>\n",
       "      <td>0</td>\n",
       "      <td>0</td>\n",
       "      <td>0</td>\n",
       "      <td>0</td>\n",
       "      <td>0</td>\n",
       "      <td>0</td>\n",
       "      <td>0</td>\n",
       "      <td>0</td>\n",
       "      <td>0</td>\n",
       "      <td>0</td>\n",
       "      <td>0</td>\n",
       "      <td>0</td>\n",
       "      <td>0</td>\n",
       "      <td>0</td>\n",
       "      <td>25</td>\n",
       "      <td>187</td>\n",
       "      <td>189</td>\n",
       "      <td>...</td>\n",
       "      <td>230</td>\n",
       "      <td>237</td>\n",
       "      <td>229</td>\n",
       "      <td>0</td>\n",
       "      <td>0</td>\n",
       "      <td>1</td>\n",
       "      <td>0</td>\n",
       "      <td>0</td>\n",
       "      <td>0</td>\n",
       "      <td>0</td>\n",
       "      <td>0</td>\n",
       "      <td>0</td>\n",
       "      <td>0</td>\n",
       "      <td>0</td>\n",
       "      <td>0</td>\n",
       "      <td>0</td>\n",
       "      <td>0</td>\n",
       "      <td>0</td>\n",
       "      <td>0</td>\n",
       "      <td>0</td>\n",
       "      <td>0</td>\n",
       "      <td>68</td>\n",
       "      <td>116</td>\n",
       "      <td>112</td>\n",
       "      <td>136</td>\n",
       "      <td>147</td>\n",
       "      <td>144</td>\n",
       "      <td>121</td>\n",
       "      <td>102</td>\n",
       "      <td>63</td>\n",
       "      <td>0</td>\n",
       "      <td>0</td>\n",
       "      <td>0</td>\n",
       "      <td>0</td>\n",
       "      <td>0</td>\n",
       "      <td>0</td>\n",
       "      <td>0</td>\n",
       "      <td>0</td>\n",
       "      <td>0</td>\n",
       "      <td>0</td>\n",
       "    </tr>\n",
       "  </tbody>\n",
       "</table>\n",
       "<p>5 rows × 785 columns</p>\n",
       "</div>\n",
       "      <button class=\"colab-df-convert\" onclick=\"convertToInteractive('df-c2474276-fdf0-4fb0-b637-f198e1635eba')\"\n",
       "              title=\"Convert this dataframe to an interactive table.\"\n",
       "              style=\"display:none;\">\n",
       "        \n",
       "  <svg xmlns=\"http://www.w3.org/2000/svg\" height=\"24px\"viewBox=\"0 0 24 24\"\n",
       "       width=\"24px\">\n",
       "    <path d=\"M0 0h24v24H0V0z\" fill=\"none\"/>\n",
       "    <path d=\"M18.56 5.44l.94 2.06.94-2.06 2.06-.94-2.06-.94-.94-2.06-.94 2.06-2.06.94zm-11 1L8.5 8.5l.94-2.06 2.06-.94-2.06-.94L8.5 2.5l-.94 2.06-2.06.94zm10 10l.94 2.06.94-2.06 2.06-.94-2.06-.94-.94-2.06-.94 2.06-2.06.94z\"/><path d=\"M17.41 7.96l-1.37-1.37c-.4-.4-.92-.59-1.43-.59-.52 0-1.04.2-1.43.59L10.3 9.45l-7.72 7.72c-.78.78-.78 2.05 0 2.83L4 21.41c.39.39.9.59 1.41.59.51 0 1.02-.2 1.41-.59l7.78-7.78 2.81-2.81c.8-.78.8-2.07 0-2.86zM5.41 20L4 18.59l7.72-7.72 1.47 1.35L5.41 20z\"/>\n",
       "  </svg>\n",
       "      </button>\n",
       "      \n",
       "  <style>\n",
       "    .colab-df-container {\n",
       "      display:flex;\n",
       "      flex-wrap:wrap;\n",
       "      gap: 12px;\n",
       "    }\n",
       "\n",
       "    .colab-df-convert {\n",
       "      background-color: #E8F0FE;\n",
       "      border: none;\n",
       "      border-radius: 50%;\n",
       "      cursor: pointer;\n",
       "      display: none;\n",
       "      fill: #1967D2;\n",
       "      height: 32px;\n",
       "      padding: 0 0 0 0;\n",
       "      width: 32px;\n",
       "    }\n",
       "\n",
       "    .colab-df-convert:hover {\n",
       "      background-color: #E2EBFA;\n",
       "      box-shadow: 0px 1px 2px rgba(60, 64, 67, 0.3), 0px 1px 3px 1px rgba(60, 64, 67, 0.15);\n",
       "      fill: #174EA6;\n",
       "    }\n",
       "\n",
       "    [theme=dark] .colab-df-convert {\n",
       "      background-color: #3B4455;\n",
       "      fill: #D2E3FC;\n",
       "    }\n",
       "\n",
       "    [theme=dark] .colab-df-convert:hover {\n",
       "      background-color: #434B5C;\n",
       "      box-shadow: 0px 1px 3px 1px rgba(0, 0, 0, 0.15);\n",
       "      filter: drop-shadow(0px 1px 2px rgba(0, 0, 0, 0.3));\n",
       "      fill: #FFFFFF;\n",
       "    }\n",
       "  </style>\n",
       "\n",
       "      <script>\n",
       "        const buttonEl =\n",
       "          document.querySelector('#df-c2474276-fdf0-4fb0-b637-f198e1635eba button.colab-df-convert');\n",
       "        buttonEl.style.display =\n",
       "          google.colab.kernel.accessAllowed ? 'block' : 'none';\n",
       "\n",
       "        async function convertToInteractive(key) {\n",
       "          const element = document.querySelector('#df-c2474276-fdf0-4fb0-b637-f198e1635eba');\n",
       "          const dataTable =\n",
       "            await google.colab.kernel.invokeFunction('convertToInteractive',\n",
       "                                                     [key], {});\n",
       "          if (!dataTable) return;\n",
       "\n",
       "          const docLinkHtml = 'Like what you see? Visit the ' +\n",
       "            '<a target=\"_blank\" href=https://colab.research.google.com/notebooks/data_table.ipynb>data table notebook</a>'\n",
       "            + ' to learn more about interactive tables.';\n",
       "          element.innerHTML = '';\n",
       "          dataTable['output_type'] = 'display_data';\n",
       "          await google.colab.output.renderOutput(dataTable, element);\n",
       "          const docLink = document.createElement('div');\n",
       "          docLink.innerHTML = docLinkHtml;\n",
       "          element.appendChild(docLink);\n",
       "        }\n",
       "      </script>\n",
       "    </div>\n",
       "  </div>\n",
       "  "
      ],
      "text/plain": [
       "   label  pixel1  pixel2  pixel3  ...  pixel781  pixel782  pixel783  pixel784\n",
       "0      2       0       0       0  ...         0         0         0         0\n",
       "1      9       0       0       0  ...         0         0         0         0\n",
       "2      6       0       0       0  ...         0         0         0         0\n",
       "3      0       0       0       0  ...         0         0         0         0\n",
       "4      3       0       0       0  ...         0         0         0         0\n",
       "\n",
       "[5 rows x 785 columns]"
      ]
     },
     "execution_count": 6,
     "metadata": {},
     "output_type": "execute_result"
    }
   ],
   "source": [
    "#Read in the test data at this point\n",
    "data_test= pd.read_csv('/content/drive/MyDrive/GitHub/APL405-1/Week_05_NeuralNetworks/Assignment_05/fashion-mnist_test.csv')\n",
    "data_test.head()"
   ]
  },
  {
   "cell_type": "markdown",
   "id": "_9eB2ENx7FUr",
   "metadata": {
    "id": "_9eB2ENx7FUr"
   },
   "source": [
    "**Displaying some values**"
   ]
  },
  {
   "cell_type": "code",
   "execution_count": 21,
   "id": "pbV-RH8htUxr",
   "metadata": {
    "id": "pbV-RH8htUxr"
   },
   "outputs": [],
   "source": [
    "def displayData(X, example_width=None, figsize=(28, 28)):\n",
    "    \"\"\"\n",
    "    Displays 2D data stored in X in a nice grid.\n",
    "    \"\"\"\n",
    "    # Compute rows, cols\n",
    "    if X.ndim == 2:\n",
    "        m, n = X.shape\n",
    "    elif X.ndim == 1:\n",
    "        n = X.size\n",
    "        m = 1\n",
    "        X = X[None]  # Promote to a 2 dimensional array\n",
    "    else:\n",
    "        raise IndexError('Input X should be 1 or 2 dimensional.')\n",
    "\n",
    "    example_width = example_width or int(np.round(np.sqrt(n)))\n",
    "    example_height = n / example_width\n",
    "\n",
    "    # Compute number of items to display\n",
    "    display_rows = int(np.floor(np.sqrt(m)))\n",
    "    display_cols = int(np.ceil(m / display_rows))\n",
    "\n",
    "    fig, ax_array = pyplot.subplots(display_rows, display_cols, figsize=figsize)\n",
    "    fig.subplots_adjust(wspace=0.025, hspace=0.025)\n",
    "\n",
    "    ax_array = [ax_array] if m == 1 else ax_array.ravel()\n",
    "\n",
    "    for i, ax in enumerate(ax_array):\n",
    "        # Display Image\n",
    "        h = ax.imshow(X[i].reshape(example_width, example_width, order='F'),\n",
    "                      cmap='Greys', extent=[0, 1, 0, 1])\n",
    "        ax.axis('off')"
   ]
  },
  {
   "cell_type": "code",
   "execution_count": 22,
   "id": "csYGOetcsoc4",
   "metadata": {
    "colab": {
     "base_uri": "https://localhost:8080/",
     "height": 1000
    },
    "id": "csYGOetcsoc4",
    "outputId": "b9720ff3-f28a-457e-a34a-8519e267ea7b"
   },
   "outputs": [
    {
     "data": {
      "image/png": "[encoded data removed]",
      "text/plain": [
       "<Figure size 2016x2016 with 100 Axes>"
      ]
     },
     "metadata": {
      "needs_background": "light"
     },
     "output_type": "display_data"
    }
   ],
   "source": [
    "# Randomly select 100 data points to display\n",
    "rand_indices = np.random.choice(y.size, 100, replace=False)\n",
    "sel = X[rand_indices, :]\n",
    "\n",
    "displayData(sel)"
   ]
  },
  {
   "cell_type": "code",
   "execution_count": 4,
   "id": "f73ad2ca-8c9a-41ec-a6a4-6d80c4ec8b85",
   "metadata": {
    "id": "f73ad2ca-8c9a-41ec-a6a4-6d80c4ec8b85"
   },
   "outputs": [],
   "source": [
    "#Segregate the data, normalise the feature vector, initialise a dictionary corresponding to the output array and map it. \n",
    "#Print a subset of the data like we did for the hand-written digit classification\n",
    "def data_clean_Display(data):\n",
    "  # 'data' is a pandas datafram\n",
    "  d = data.to_numpy()\n",
    "  y = d[:,0]\n",
    "  x = d[:,1:] \n",
    "  X =  (x - x.min())/(x.max() - x.min())\n",
    "  return X,y\n",
    "  pass"
   ]
  },
  {
   "cell_type": "markdown",
   "id": "N5N7WodS7Oln",
   "metadata": {
    "id": "N5N7WodS7Oln"
   },
   "source": [
    "**Examples of traing data**"
   ]
  },
  {
   "cell_type": "code",
   "execution_count": null,
   "id": "415a1963-e7bc-440e-9ef0-080764f218f9",
   "metadata": {
    "colab": {
     "base_uri": "https://localhost:8080/",
     "height": 1000
    },
    "id": "415a1963-e7bc-440e-9ef0-080764f218f9",
    "outputId": "4076bd6f-854d-4d68-bf08-14b363706c38"
   },
   "outputs": [
    {
     "data": {
      "image/png": "[encoded data removed]",
      "text/plain": [
       "<Figure size 432x288 with 1 Axes>"
      ]
     },
     "metadata": {
      "needs_background": "light"
     },
     "output_type": "display_data"
    },
    {
     "data": {
      "image/png": "[encoded data removed]",
      "text/plain": [
       "<Figure size 432x288 with 1 Axes>"
      ]
     },
     "metadata": {
      "needs_background": "light"
     },
     "output_type": "display_data"
    },
    {
     "data": {
      "image/png": "[encoded data removed]",
      "text/plain": [
       "<Figure size 432x288 with 1 Axes>"
      ]
     },
     "metadata": {
      "needs_background": "light"
     },
     "output_type": "display_data"
    },
    {
     "data": {
      "image/png": "[encoded data removed]",
      "text/plain": [
       "<Figure size 432x288 with 1 Axes>"
      ]
     },
     "metadata": {
      "needs_background": "light"
     },
     "output_type": "display_data"
    },
    {
     "data": {
      "image/png": "[encoded data removed]",
      "text/plain": [
       "<Figure size 432x288 with 1 Axes>"
      ]
     },
     "metadata": {
      "needs_background": "light"
     },
     "output_type": "display_data"
    },
    {
     "data": {
      "image/png": "[encoded data removed]",
      "text/plain": [
       "<Figure size 432x288 with 1 Axes>"
      ]
     },
     "metadata": {
      "needs_background": "light"
     },
     "output_type": "display_data"
    },
    {
     "data": {
      "image/png": "[encoded data removed]",
      "text/plain": [
       "<Figure size 432x288 with 1 Axes>"
      ]
     },
     "metadata": {
      "needs_background": "light"
     },
     "output_type": "display_data"
    },
    {
     "data": {
      "image/png": "[encoded data removed]",
      "text/plain": [
       "<Figure size 432x288 with 1 Axes>"
      ]
     },
     "metadata": {
      "needs_background": "light"
     },
     "output_type": "display_data"
    },
    {
     "data": {
      "image/png": "[encoded data removed]",
      "text/plain": [
       "<Figure size 432x288 with 1 Axes>"
      ]
     },
     "metadata": {
      "needs_background": "light"
     },
     "output_type": "display_data"
    },
    {
     "data": {
      "image/png": "[encoded data removed]",
      "text/plain": [
       "<Figure size 432x288 with 1 Axes>"
      ]
     },
     "metadata": {
      "needs_background": "light"
     },
     "output_type": "display_data"
    }
   ],
   "source": [
    "#Write code here to display sample set of data\n",
    "data1 = data.to_numpy()\n",
    "l1 = [0,1,2,3,4,5,6,7,8,9]\n",
    "x1 = np.array([])\n",
    "\n",
    "for j in range(10):\n",
    "  for i in range(len(data1)):\n",
    "    if data1[i,0] == l1[j]:\n",
    "      x1 = data1[i,1:]\n",
    "      break\n",
    "  a1 = np.reshape(x1,(28,28)) \n",
    "  plt.figure(i)\n",
    "  image = plt.imshow(a1)\n",
    "  plt.title('example of data labelled ={}'.format(l1[j]))"
   ]
  },
  {
   "cell_type": "markdown",
   "id": "cO7bHPJdyYrq",
   "metadata": {
    "id": "cO7bHPJdyYrq"
   },
   "source": [
    "**Sigmoid and Gradient Sigmoid**"
   ]
  },
  {
   "cell_type": "code",
   "execution_count": 25,
   "id": "59d28d75-085f-4902-b335-2cb22b813fe2",
   "metadata": {
    "id": "59d28d75-085f-4902-b335-2cb22b813fe2"
   },
   "outputs": [],
   "source": [
    "#Implement the sigmoid function\n",
    "def sigmoid(z):\n",
    "  pass\n",
    "  g = 1/(1+np.exp(-1*z))\n",
    "  return g"
   ]
  },
  {
   "cell_type": "code",
   "execution_count": 28,
   "id": "fbb0b394",
   "metadata": {
    "id": "fbb0b394"
   },
   "outputs": [],
   "source": [
    "#implement the gradient of the sigmoid function\n",
    "def sigmoidGradient(z):\n",
    "  pass\n",
    "  a = sigmoid(z)\n",
    "  g = a*(1-a)\n",
    "  return g"
   ]
  },
  {
   "cell_type": "markdown",
   "id": "TEdvZswSylD2",
   "metadata": {
    "id": "TEdvZswSylD2"
   },
   "source": [
    "**Predicting values for 1 hidden layer**"
   ]
  },
  {
   "cell_type": "code",
   "execution_count": 26,
   "id": "d89f993c",
   "metadata": {
    "id": "d89f993c"
   },
   "outputs": [],
   "source": [
    "# Prediction based on trained model\n",
    "# Use sigmoid function to calculate probability rounded off to either 0 or 1\n",
    "#Prediction function for single hidden layer.\n",
    "def predictSingleHiddenLayer(w1, w2, X): \n",
    "  pass    # 'p' should be a vector of size equal to that of vector 'y'\n",
    "  if X.ndim==1:\n",
    "    X=X[None]\n",
    "  \n",
    "  m=X.shape[0]\n",
    "  num_labels= w2.shape[0]\n",
    "  p= np.zeros(m)\n",
    "  a1= np.concatenate([np.ones((m,1)), X], axis=1) #Input layer\n",
    "  a2= sigmoid(a1.dot(w1.T)) #Hidden Layer\n",
    "  a2= np.concatenate([np.ones((a2.shape[0],1)), a2 ], axis=1) #Activation of 2nd layer\n",
    "  a3= sigmoid(a2.dot(w2.T))\n",
    "  p= np.argmax(a3, axis=1)\n",
    "  return p"
   ]
  },
  {
   "cell_type": "markdown",
   "id": "AnRXP6sqyqkO",
   "metadata": {
    "id": "AnRXP6sqyqkO"
   },
   "source": [
    "**Predicting values for 2 hidden layers**"
   ]
  },
  {
   "cell_type": "code",
   "execution_count": 27,
   "id": "4fed40ec-ee6a-4bce-b299-c0aa1f570fa3",
   "metadata": {
    "id": "4fed40ec-ee6a-4bce-b299-c0aa1f570fa3"
   },
   "outputs": [],
   "source": [
    "#Prediction function for double hidden layer.\n",
    "def predictDoubleHiddenLayer(w1, w2, w3, X): \n",
    "  pass    # 'p' should be a vector of size equal to that of vector 'y'\n",
    "  if X.ndim==1:\n",
    "    X=X[None]\n",
    "  \n",
    "  m=X.shape[0]\n",
    "  num_labels= w3.shape[0]\n",
    "  p= np.zeros(m)\n",
    "  a1= np.concatenate([np.ones((m,1)), X], axis=1) #Input layer\n",
    "  a2= sigmoid(a1.dot(w1.T)) #Hidden Layer\n",
    "  a2= np.concatenate([np.ones((a2.shape[0],1)), a2 ], axis=1) #Activation of 2nd layer\n",
    "  a3= sigmoid(a2.dot(w2.T))\n",
    "  a3= np.concatenate([np.ones((a3.shape[0],1)), a3 ], axis=1) #Activation of 3rd layer\n",
    "  a4 = sigmoid(a3.dot(w3.T))\n",
    "  p= np.argmax(a4, axis=1)\n",
    "  return p"
   ]
  },
  {
   "cell_type": "markdown",
   "id": "f6j6l1v0wdat",
   "metadata": {
    "id": "f6j6l1v0wdat"
   },
   "source": [
    "**Layer and no. of neurons initalization**"
   ]
  },
  {
   "cell_type": "code",
   "execution_count": 29,
   "id": "debf19a3-8c75-4d1f-b1c7-4700d6c285cd",
   "metadata": {
    "id": "debf19a3-8c75-4d1f-b1c7-4700d6c285cd"
   },
   "outputs": [],
   "source": [
    "# Setup the parameters you will use for this exercise \n",
    "# 2 hidden layers\n",
    "input_layer_size  = 784\n",
    "hidden_layer_size = 20\n",
    "hidden_layer_size_One = 37\n",
    "hidden_layer_size_Two = 13\n",
    "num_labels = 10"
   ]
  },
  {
   "cell_type": "markdown",
   "id": "vCE_1GmrwrPf",
   "metadata": {
    "id": "vCE_1GmrwrPf"
   },
   "source": [
    "**Wieghts initialization**"
   ]
  },
  {
   "cell_type": "code",
   "execution_count": 30,
   "id": "fbdcad44",
   "metadata": {
    "id": "fbdcad44"
   },
   "outputs": [],
   "source": [
    "#randomly initialise weights.\n",
    "def randInitializeWeights(L_in, L_out, epsilon_init=0.12):\n",
    "  pass\n",
    "  #L_in : int : Number of incomming connections. \n",
    "  #L_out : int : Number of outgoing connections.\n",
    "  W = np.zeros((L_out, 1 + L_in))\n",
    "  W = np.random.rand(L_out, 1 + L_in) * 2 * epsilon_init - epsilon_init\n",
    "  return W"
   ]
  },
  {
   "cell_type": "markdown",
   "id": "ljIhaTzswyug",
   "metadata": {
    "id": "ljIhaTzswyug"
   },
   "source": [
    "**1 Hidden layer weight initialization**"
   ]
  },
  {
   "cell_type": "code",
   "execution_count": 31,
   "id": "CEHG_3IbOH9c",
   "metadata": {
    "id": "CEHG_3IbOH9c"
   },
   "outputs": [],
   "source": [
    "# for 1 hidden layer\n",
    "initial_w1 = randInitializeWeights(input_layer_size,hidden_layer_size)\n",
    "initial_w2 = randInitializeWeights(hidden_layer_size,num_labels)\n",
    "\n",
    "# Unroll parameters into a single array\n",
    "initial_nn_params = np.concatenate([initial_w1.ravel(), initial_w2.ravel()], axis=0)"
   ]
  },
  {
   "cell_type": "markdown",
   "id": "B_7aNu0txAwB",
   "metadata": {
    "id": "B_7aNu0txAwB"
   },
   "source": [
    "**2 Hidden layers wieght initialization**"
   ]
  },
  {
   "cell_type": "code",
   "execution_count": 32,
   "id": "4a12a813-9c43-4326-a87d-4b7c73ea23a2",
   "metadata": {
    "id": "4a12a813-9c43-4326-a87d-4b7c73ea23a2"
   },
   "outputs": [],
   "source": [
    "# for 2 hiddeh layers\n",
    "initial_w1h2 = randInitializeWeights(input_layer_size,hidden_layer_size_One)\n",
    "initial_w2h2 = randInitializeWeights(hidden_layer_size_One,hidden_layer_size_Two)\n",
    "initial_w3h2 = randInitializeWeights(hidden_layer_size_Two,num_labels)    #only when you're using the Second Hidden Layer\n",
    "\n",
    "# Unroll parameters into a single array\n",
    "initial_nn_params_h2 = np.concatenate([initial_w1h2.ravel(), initial_w2h2.ravel(), initial_w3h2.ravel()], axis=0)"
   ]
  },
  {
   "cell_type": "markdown",
   "id": "HXZAXh_QxIGh",
   "metadata": {
    "id": "HXZAXh_QxIGh"
   },
   "source": [
    "**Cost function for 1 hidden layer**"
   ]
  },
  {
   "cell_type": "code",
   "execution_count": 33,
   "id": "c08d1e16",
   "metadata": {
    "id": "c08d1e16"
   },
   "outputs": [],
   "source": [
    "def nnCostFunction1(nn_params,\n",
    "                   input_layer_size,\n",
    "                   hidden_layer_size,\n",
    "                   num_labels,\n",
    "                   X, y, lambda_=0.0):\n",
    "  pass\n",
    "  # Reshape nn_params back into the parameters w1 and w2, the weight matrices\n",
    "  # for our 1 hidden layer\n",
    "  w1 = np.reshape(nn_params[:hidden_layer_size * (input_layer_size + 1)],(hidden_layer_size, (input_layer_size + 1)))\n",
    "  w2 = np.reshape(nn_params[(hidden_layer_size * (input_layer_size + 1)):], (num_labels, (hidden_layer_size + 1)))\n",
    "\n",
    "  # Setup some useful variables\n",
    "  m = y.size\n",
    "         \n",
    "  # You need to return the following variables correctly \n",
    "  J = 0\n",
    "  w1_grad = np.zeros(w1.shape)\n",
    "  w2_grad = np.zeros(w2.shape)\n",
    "    \n",
    "  a1 = np.concatenate([np.ones((m, 1)), X], axis=1)\n",
    "  a2 = sigmoid(a1.dot(w1.T))\n",
    "  a2 = np.concatenate([np.ones((a2.shape[0], 1)), a2], axis=1)\n",
    "  a3 = sigmoid(a2.dot(w2.T))  \n",
    "  y_matrix = y.reshape(-1)\n",
    "  y_matrix = np.eye(num_labels)[y_matrix]\n",
    "  \n",
    "  temp1 = w1\n",
    "  temp2 = w2\n",
    "    \n",
    "  # Add regularization term\n",
    "    \n",
    "  reg_term = (lambda_ / (2 * m)) * (np.sum(np.square(temp1[:, 1:])) + np.sum(np.square(temp2[:, 1:])))\n",
    "    \n",
    "  J = (-1 / m) * np.sum((np.log(a3) * y_matrix) + np.log(1 - a3) * (1 - y_matrix)) + reg_term\n",
    "  \n",
    "  # Backpropogation\n",
    "    \n",
    "  delta_3 = a3 - y_matrix # Error of O/P layer \n",
    "  delta_2 = delta_3.dot(w2)[:, 1:] * sigmoidGradient(a1.dot(w1.T)) # Error of hidden layer [No error for I/P layer]\n",
    "  Delta1 = delta_2.T.dot(a1)\n",
    "  Delta2 = delta_3.T.dot(a2)\n",
    "    \n",
    "  # Add regularization to gradient\n",
    "\n",
    "  w1_grad = (1 / m) * Delta1\n",
    "  w1_grad[:, 1:] = w1_grad[:, 1:] + (lambda_ / m) * w1[:, 1:]\n",
    "    \n",
    "  w2_grad = (1 / m) * Delta2\n",
    "  w2_grad[:, 1:] = w2_grad[:, 1:] + (lambda_ / m) * w2[:, 1:]\n",
    "    \n",
    "  grad = np.concatenate([w1_grad.ravel(), w2_grad.ravel()]) #Check the ravel() function? \n",
    "  return J,grad"
   ]
  },
  {
   "cell_type": "markdown",
   "id": "BFVWYUgCxPHd",
   "metadata": {
    "id": "BFVWYUgCxPHd"
   },
   "source": [
    "**Cost function for 2 hidden layers**"
   ]
  },
  {
   "cell_type": "code",
   "execution_count": 34,
   "id": "XLt5CfHpWUQS",
   "metadata": {
    "id": "XLt5CfHpWUQS"
   },
   "outputs": [],
   "source": [
    "def nnCostFunction2(nn_params,\n",
    "                   input_layer_size,\n",
    "                   hidden_layer_size_One,\n",
    "                   hidden_layer_size_Two, \n",
    "                   num_labels,\n",
    "                   X, y, lambda_=0.0):\n",
    "  pass\n",
    "  # Reshape nn_params back into the parameters w1 and w2, the weight matrices\n",
    "  # for our 2 hidden layer\n",
    "  n0 = input_layer_size\n",
    "  n1 = hidden_layer_size_One\n",
    "  n2 = hidden_layer_size_Two\n",
    "  n3 = num_labels\n",
    "  w1 = np.reshape(nn_params[: n1*(n0 +1)],(n1,n0 +1))\n",
    "  w2 = np.reshape(nn_params[n1*(n0 +1): n1*(n0 +1) + n2*(n1 +1)], (n2,n1 +1))\n",
    "  w3 = np.reshape(nn_params[n1*(n0 +1) + n2*(n1 +1) :], (n3,n2 +1))\n",
    "  # Setup some useful variables\n",
    "  m = y.size\n",
    "         \n",
    "  # You need to return the following variables correctly \n",
    "  J = 0\n",
    "  w1_grad = np.zeros(w1.shape)\n",
    "  w2_grad = np.zeros(w2.shape)\n",
    "  w3_grad = np.zeros(w3.shape)\n",
    "    \n",
    "  a1 = np.concatenate([np.ones((m, 1)), X], axis=1)\n",
    "  a2 = sigmoid(a1.dot(w1.T))\n",
    "  a2 = np.concatenate([np.ones((a2.shape[0], 1)), a2], axis=1)\n",
    "  a3 = sigmoid(a2.dot(w2.T))\n",
    "  a3 = np.concatenate([np.ones((a3.shape[0], 1)), a3], axis=1)\n",
    "  a4 = sigmoid(a3.dot(w3.T))\n",
    "  y_matrix = y.reshape(-1)\n",
    "  y_matrix = np.eye(num_labels)[y_matrix]\n",
    "  \n",
    "  temp1 = w1\n",
    "  temp2 = w2\n",
    "  temp3 = w3\n",
    "    \n",
    "  # Add regularization term  \n",
    "  reg_term = (lambda_ / (2 * m)) * (np.sum(np.square(temp1[:, 1:])) + np.sum(np.square(temp2[:, 1:])) + np.sum(np.square(temp3[:, 1:])))  \n",
    "  J = (-1 / m) * np.sum((np.log(a4) * y_matrix) + np.log(1 - a4) * (1 - y_matrix)) + reg_term\n",
    "  \n",
    "  # Backpropogation\n",
    "  delta_4 = a4 - y_matrix # Error of O/P layer \n",
    "  delta_3 = delta_4.dot(w3)[:, 1:] * sigmoidGradient(a2.dot(w2.T)) # Error of hidden layer 2\n",
    "  delta_2 = delta_3.dot(w2)[:, 1:] * sigmoidGradient(a1.dot(w1.T)) # Error of hidden layer 1\n",
    "  Delta1 = delta_2.T.dot(a1)\n",
    "  Delta2 = delta_3.T.dot(a2)\n",
    "  Delta3 = delta_4.T.dot(a3)\n",
    "    \n",
    "  # Add regularization to gradient\n",
    "\n",
    "  w1_grad = (1 / m) * Delta1\n",
    "  w1_grad[:, 1:] = w1_grad[:, 1:] + (lambda_ / m) * w1[:, 1:]\n",
    "    \n",
    "  w2_grad = (1 / m) * Delta2\n",
    "  w2_grad[:, 1:] = w2_grad[:, 1:] + (lambda_ / m) * w2[:, 1:]\n",
    "\n",
    "  w3_grad = (1 / m) * Delta3\n",
    "  w3_grad[:, 1:] = w3_grad[:, 1:] + (lambda_ / m) * w3[:, 1:]\n",
    "    \n",
    "  grad = np.concatenate([w1_grad.ravel(), w2_grad.ravel(),w3_grad.ravel()])\n",
    "  return J,grad"
   ]
  },
  {
   "cell_type": "markdown",
   "id": "dYrAjN6GxWs-",
   "metadata": {
    "id": "dYrAjN6GxWs-"
   },
   "source": [
    "**Optimization for 1 hidden layer**"
   ]
  },
  {
   "cell_type": "code",
   "execution_count": 39,
   "id": "095017bc-36e7-4936-b0f6-73ed6bea9d50",
   "metadata": {
    "colab": {
     "base_uri": "https://localhost:8080/"
    },
    "id": "095017bc-36e7-4936-b0f6-73ed6bea9d50",
    "outputId": "8b40f2ac-d2af-4672-bb45-83908355aa8d"
   },
   "outputs": [
    {
     "name": "stdout",
     "output_type": "stream",
     "text": [
      "Max. number of function evaluations reached\n"
     ]
    }
   ],
   "source": [
    "# Write code to pass the cost function to scipy's optimise.minimize for 1 hidden layer\n",
    "options= {'maxiter': 4000}\n",
    "lambda_ = 0.1\n",
    "\n",
    "# Create \"short hand\" for the cost function to be minimized\n",
    "costFunction = lambda p: nnCostFunction1(p, input_layer_size, hidden_layer_size, num_labels, X, y, lambda_)\n",
    "\n",
    "# Now, costFunction is a function that takes in only one argument\n",
    "# (the neural network parameters)\n",
    "res = optimize.minimize(costFunction,\n",
    "                        initial_nn_params,\n",
    "                        jac=True,\n",
    "                        method='TNC',\n",
    "                        options=options)\n",
    "\n",
    "# get the solution of the optimization\n",
    "print(res.message)\n",
    "nn_params = res.x\n",
    "        \n",
    "# Obtain w1 and w2 back from nn_params\n",
    "w1 = np.reshape(nn_params[:hidden_layer_size * (input_layer_size + 1)],(hidden_layer_size, (input_layer_size + 1)))\n",
    "w2 = np.reshape(nn_params[(hidden_layer_size * (input_layer_size + 1)):],(num_labels, (hidden_layer_size + 1)))"
   ]
  },
  {
   "cell_type": "markdown",
   "id": "tMNddUDBxgLr",
   "metadata": {
    "id": "tMNddUDBxgLr"
   },
   "source": [
    "**Optimization for 2 hidden layers**"
   ]
  },
  {
   "cell_type": "code",
   "execution_count": 40,
   "id": "8_-7wNLMq3K8",
   "metadata": {
    "colab": {
     "base_uri": "https://localhost:8080/"
    },
    "id": "8_-7wNLMq3K8",
    "outputId": "716c2c1c-09b4-4c6e-dd44-d2b15a050ab4"
   },
   "outputs": [
    {
     "name": "stdout",
     "output_type": "stream",
     "text": [
      "Max. number of function evaluations reached\n"
     ]
    }
   ],
   "source": [
    "# Write code to pass the cost function to scipy's optimise.minimize for 2 hidden layer\n",
    "options= {'maxiter': 4000}\n",
    "lambda_ = 0.1\n",
    "\n",
    "# Create \"short hand\" for the cost function to be minimized\n",
    "costFunction = lambda p: nnCostFunction2(p, input_layer_size, hidden_layer_size_One,hidden_layer_size_Two, num_labels, X, y, lambda_)\n",
    "\n",
    "# Now, costFunction is a function that takes in only one argument\n",
    "# (the neural network parameters)\n",
    "res = optimize.minimize(costFunction,\n",
    "                        initial_nn_params_h2,\n",
    "                        jac=True,\n",
    "                        method='TNC',\n",
    "                        options=options)\n",
    "\n",
    "# get the solution of the optimization\n",
    "print(res.message)\n",
    "nn_params = res.x\n",
    "        \n",
    "# Obtain w1h2, w2h2 and w3h2 back from nn_params\n",
    "n0 = input_layer_size\n",
    "n1 = hidden_layer_size_One\n",
    "n2 = hidden_layer_size_Two\n",
    "n3 = num_labels\n",
    "w1h2 = np.reshape(nn_params[:n1*(n0 +1)],(n1,n0 +1))\n",
    "w2h2 = np.reshape(nn_params[n1*(n0 +1): n1*(n0 +1) + n2*(n1 +1)], (n2,n1 +1))\n",
    "w3h2 = np.reshape(nn_params[n1*(n0 +1) + n2*(n1 +1) :], (n3,n2 +1))"
   ]
  },
  {
   "cell_type": "markdown",
   "id": "-KPWmsMjxv1b",
   "metadata": {
    "id": "-KPWmsMjxv1b"
   },
   "source": [
    "**Checking precision**"
   ]
  },
  {
   "cell_type": "code",
   "execution_count": 41,
   "id": "e41d61ac-e54f-458a-b1e8-9188f9147fb7",
   "metadata": {
    "colab": {
     "base_uri": "https://localhost:8080/"
    },
    "id": "e41d61ac-e54f-458a-b1e8-9188f9147fb7",
    "outputId": "6244fc45-55b2-4e0f-e17f-b34293ad94ad"
   },
   "outputs": [
    {
     "name": "stdout",
     "output_type": "stream",
     "text": [
      "accuracy on training data with 1 hidden layer = 96.67\n",
      "accuracy on testing data with 1 hidden layer = 86.66666666666667\n",
      "accuracy on training data with 2 hidden layer = 99.92\n",
      "accuracy on testing data with 2 hidden layer = 86.66666666666667\n"
     ]
    }
   ],
   "source": [
    "#Break the nn_params into weights depending on how many layers you're using and \n",
    "#pass it to the predict function according to the number of layers you're using.\n",
    "\n",
    "#COMPARE the prediction efficiency of the NN from one hidden layer to double hidden layer\n",
    "\n",
    "# for 1 hidden layer\n",
    "p_h1 = predictSingleHiddenLayer(w1,w2,X)    # X is training data\n",
    "a =np.array(p_h1 ==y).astype(int)\n",
    "n = a.shape[0]\n",
    "v1 = (np.sum(a)/n)*100\n",
    "\n",
    "ph1 = predictSingleHiddenLayer(w1,w2,X1)    # X1 is testing data\n",
    "a =np.array(ph1 ==y1).astype(int)\n",
    "n = a.shape[0]\n",
    "v2 = (np.sum(a)/n)*100\n",
    "\n",
    "# for 2 hidden layers\n",
    "p_h2 = predictDoubleHiddenLayer(w1h2,w2h2,w3h2,X)    # X is training data\n",
    "a =np.array(p_h2 ==y).astype(int)\n",
    "n = a.shape[0]\n",
    "v1 = (np.sum(a)/n)*100\n",
    "print('accuracy on training data with 2 hidden layer = {}'.format(v1))\n",
    "\n",
    "ph2 = predictDoubleHiddenLayer(w1h2,w2h2,w3h2,X1)    # X1 is testing data\n",
    "a =np.array(ph2 ==y1).astype(int)\n",
    "n = a.shape[0]\n",
    "v2 = (np.sum(a)/n)*100\n",
    "print('accuracy on testing data with 2 hidden layer = {}'.format(v2))\n",
    "\n",
    "#check how the learned weights are performing on the test data."
   ]
  },
  {
   "cell_type": "code",
   "execution_count": 7,
   "id": "YhBqus4LSRVx",
   "metadata": {
    "id": "YhBqus4LSRVx"
   },
   "outputs": [],
   "source": [
    "X,y = data_clean_Display(data)"
   ]
  },
  {
   "cell_type": "code",
   "execution_count": 8,
   "id": "f5oHSlFgvDv3",
   "metadata": {
    "id": "f5oHSlFgvDv3"
   },
   "outputs": [],
   "source": [
    "X1,y1 = data_clean_Display(data_test)"
   ]
  },
  {
   "cell_type": "markdown",
   "id": "g9KEPjc_5n2z",
   "metadata": {
    "id": "g9KEPjc_5n2z"
   },
   "source": [
    "Tittle is a tuple of predicted and actual label in order"
   ]
  },
  {
   "cell_type": "code",
   "execution_count": 43,
   "id": "C50BkzFW4M_s",
   "metadata": {
    "colab": {
     "base_uri": "https://localhost:8080/",
     "height": 1000
    },
    "id": "C50BkzFW4M_s",
    "outputId": "c9755661-69ba-45b8-f4e4-7bf72ed385dd"
   },
   "outputs": [
    {
     "data": {
      "image/png": "[encoded data removed]",
      "text/plain": [
       "<Figure size 432x288 with 1 Axes>"
      ]
     },
     "metadata": {
      "needs_background": "light"
     },
     "output_type": "display_data"
    },
    {
     "data": {
      "image/png": "[encoded data removed]",
      "text/plain": [
       "<Figure size 432x288 with 1 Axes>"
      ]
     },
     "metadata": {
      "needs_background": "light"
     },
     "output_type": "display_data"
    },
    {
     "data": {
      "image/png": "[encoded data removed]",
      "text/plain": [
       "<Figure size 432x288 with 1 Axes>"
      ]
     },
     "metadata": {
      "needs_background": "light"
     },
     "output_type": "display_data"
    },
    {
     "data": {
      "image/png": "[encoded data removed]",
      "text/plain": [
       "<Figure size 432x288 with 1 Axes>"
      ]
     },
     "metadata": {
      "needs_background": "light"
     },
     "output_type": "display_data"
    },
    {
     "data": {
      "image/png": "[encoded data removed]",
      "text/plain": [
       "<Figure size 432x288 with 1 Axes>"
      ]
     },
     "metadata": {
      "needs_background": "light"
     },
     "output_type": "display_data"
    }
   ],
   "source": [
    "# Plotting testing examples for 1 hidden layer\n",
    "for i in range(5):\n",
    "  a = np.reshape(X1[6*i],(28,28))\n",
    "  plt.figure(i)\n",
    "  image = plt.imshow(a)\n",
    "  plt.title(predictSingleHiddenLayer(w1,w2,X1)[6*i])"
   ]
  },
  {
   "cell_type": "code",
   "execution_count": 44,
   "id": "iDsBs9I842Y9",
   "metadata": {
    "colab": {
     "base_uri": "https://localhost:8080/",
     "height": 1000
    },
    "id": "iDsBs9I842Y9",
    "outputId": "2f2066fa-e08a-442a-f9e2-857292c98af1"
   },
   "outputs": [
    {
     "data": {
      "image/png": "[encoded data removed]",
      "text/plain": [
       "<Figure size 432x288 with 1 Axes>"
      ]
     },
     "metadata": {
      "needs_background": "light"
     },
     "output_type": "display_data"
    },
    {
     "data": {
      "image/png": "[encoded data removed]",
      "text/plain": [
       "<Figure size 432x288 with 1 Axes>"
      ]
     },
     "metadata": {
      "needs_background": "light"
     },
     "output_type": "display_data"
    },
    {
     "data": {
      "image/png": "[encoded data removed]",
      "text/plain": [
       "<Figure size 432x288 with 1 Axes>"
      ]
     },
     "metadata": {
      "needs_background": "light"
     },
     "output_type": "display_data"
    },
    {
     "data": {
      "image/png": "[encoded data removed]",
      "text/plain": [
       "<Figure size 432x288 with 1 Axes>"
      ]
     },
     "metadata": {
      "needs_background": "light"
     },
     "output_type": "display_data"
    },
    {
     "data": {
      "image/png": "[encoded data removed]",
      "text/plain": [
       "<Figure size 432x288 with 1 Axes>"
      ]
     },
     "metadata": {
      "needs_background": "light"
     },
     "output_type": "display_data"
    }
   ],
   "source": [
    "# Plotting testing examples for 2 hidden layers\n",
    "for i in range(5):\n",
    "  a = np.reshape(X1[6*i],(28,28))\n",
    "  plt.figure(i)\n",
    "  image = plt.imshow(a)\n",
    "  plt.title(predictDoubleHiddenLayer(w1h2,w2h2,w3h2,X1)[6*i])"
   ]
  },
  {
   "cell_type": "markdown",
   "id": "40f3e85d-e5b2-4317-b679-3e2afdfd5a4f",
   "metadata": {
    "id": "40f3e85d-e5b2-4317-b679-3e2afdfd5a4f"
   },
   "source": [
    "## Comments:"
   ]
  },
  {
   "cell_type": "markdown",
   "id": "f0aa6257-e3d5-4094-b09f-41d82e848ccd",
   "metadata": {
    "id": "f0aa6257-e3d5-4094-b09f-41d82e848ccd"
   },
   "source": [
    "We observe the **accuracy of 2 hidden layer** is **more** than that of **1 hidden layer** for same no. of itterations.\n",
    "This is beacause of more no. of neurons in 2 hidden layer system than compared to 1 layer system, so the 2 hidden layer will have **more wieghts** than compared to 1 hidden layer and thus will fit the data better.\n",
    "The **regularization term** **avoids overfitting of the hypothesis**.\n",
    "So this results in 2 hidden layer are more accurate than 1 hidden layer on the training set atleast, we see the the accuracy on the testing set being same, but we should consider the facto that the testing set has only 30 examples and **86.67% accuraccy => 4 incorrect out of 30**"
   ]
  },
  {
   "cell_type": "markdown",
   "id": "Sa4iP7YUAaf1",
   "metadata": {
    "id": "Sa4iP7YUAaf1"
   },
   "source": [
    "One should also see the **number of testing examples** also. Since there is a chance that is the testing data had more data points then we could see difference between the accuracies of the 2 different no. of layers."
   ]
  }
 ],
 "metadata": {
  "colab": {
   "collapsed_sections": [],
   "name": "Assignment05Template.ipynb",
   "provenance": []
  },
  "kernelspec": {
   "display_name": "Python 3",
   "language": "python",
   "name": "python3"
  },
  "language_info": {
   "codemirror_mode": {
    "name": "ipython",
    "version": 3
   },
   "file_extension": ".py",
   "mimetype": "text/x-python",
   "name": "python",
   "nbconvert_exporter": "python",
   "pygments_lexer": "ipython3",
   "version": "3.8.8"
  }
 },
 "nbformat": 4,
 "nbformat_minor": 5
}
